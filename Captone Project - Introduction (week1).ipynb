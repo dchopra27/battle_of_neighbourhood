{
    "cells": [
        {
            "cell_type": "markdown",
            "metadata": {
                "collapsed": true
            },
            "source": "# CAPTONE PROJECT"
        },
        {
            "cell_type": "markdown",
            "metadata": {},
            "source": "## Introduction and Background"
        },
        {
            "cell_type": "markdown",
            "metadata": {},
            "source": "In the Capstone Project, my idea is to show that when driven by venue and location data from FourSquare AP1, backed up with open source crime data, it is possible to present a new/first-time/solo traveller with a list of attractions to visit supplementd with a graphics showing the crime occurance in the region of the venue.\n\nA high level approach is as follows:\n<ol>\n    <li>  The travellers decides on a city location </li>\n    <li> Fetch the top venues from FourSquare </li>\n    <li> Augment the list of top venues with additional geographical data </li>\n    <li> Using this additional geographical data the top nearby restaurents are selected </li>\n    <li> The historical crime within a predetermined distance of all venues are obtained </li>\n    <li> A map is presented to the to the traveller showing the selected venues and crime statistics of the area.</li>\n</ol>\n   \n\n<b> Who are the end users? </b>\n\nThis solution is targeted at new/first-time/cautious traveller. They want to see all the main sites of a city that they have never visited before but at the same time, for whatever reaons unknown, they want to be able to do all that they can to make sure that they stay clear of trouble i.e. is it safe to visit this venue and this restaurant at 4:00 pm in the afternoon.\n\n\nThere are many data science aspect of this project including:\n\n    Data Acquisition\n    Data Cleansing\n    Data Analysis\n    Machine Learning\n    Prediction\n"
        },
        {
            "cell_type": "markdown",
            "metadata": {},
            "source": "## Data"
        },
        {
            "cell_type": "markdown",
            "metadata": {},
            "source": "In this section, I will describe the data used to solve the problem. We discuss the following 4 scenarios:\n\n\n<ol>\n    <li> Query the FourSqaure website for the top sites in Chicago </li>\n    <li>Use the FourSquare API to get supplemental geographical data about the top sites</li>\n    <li>Use the FourSquare API to get top restaurent recommendations closest to each of the top site</li>\n    <li>Use open source Chicago Crime data to provide the user with additional crime data</li>\n</ol>\n"
        },
        {
            "cell_type": "markdown",
            "metadata": {},
            "source": "### 1. Query the FourSqaure website for the top sites in Chicago "
        },
        {
            "cell_type": "markdown",
            "metadata": {},
            "source": "Although FourSquare provides a comprehensive API, one of the things that API does not easily support is a mechanism to directly extract the top N sites / venues in a given city. This data, however, is easily available directly from the FourSquare Website. To do this simply go to www.foursquare.com, enter the city of your choise and select Top Picks from I'm Looking For selection field.\n\nUsing BeautifulSoup and Requests the results of the Top Pick for Chicago was retrieved.\nFrom this HTML the following data can be extracted:\n<ul>\n    <li> Venue Name </li>\n    <li> Venue Score </li>\n    <li> Venue Category </li>\n    <li> Venue HREF </li>\n    <li> Venue ID [Extracted from the HREF]</li>\n    </ul>\n"
        },
        {
            "cell_type": "markdown",
            "metadata": {},
            "source": "### 2. Use the FourSquare API to get supplemental geographical data about the top sites"
        },
        {
            "cell_type": "markdown",
            "metadata": {},
            "source": "Using the id field extracted from the HTML it is then possible to get further supplemental geographical details about each of the top sites from FourSquare. We extract the following fields:\n\nFrom this the following attributes are extracted:\n<ul>\n   <li> Venue Address  </li> \n\n  <li>   Venue Postalcode  </li> \n\n  <li>   Venue City  </li> \n\n   <li>  Venue Latitude  </li> \n\n   <li>  Venue Longitude  </li> \n"
        },
        {
            "cell_type": "markdown",
            "metadata": {},
            "source": "### 3. Use the FourSquare API to get top restaurent recommendations closest to each of the top site"
        },
        {
            "cell_type": "markdown",
            "metadata": {},
            "source": "Using the the list of all id values in the Top Sites DataFrame and the FourSquare categoryID that represents all food venues we now search for restaurants within a 500 meter radius.\nFrom this JSON the following attributes are extraced and added to the Dataframe:\n<ul>\n   <li> Restaurant ID   </li>\n    <li> Restaurant Category Name </li>\n   <li>  Restaurant Category ID </li>\n    <li> Restaurant Nest_name </li>\n    <li> Restaurant Address </li>\n    <li> Restaurant Postalcode </li>\n    <li> Restaurant City  </li>\n    <li> Restaurant Latitude </li>\n    <li> Restaurant Longitude </li>\n    <li> Venue Name </li>\n    <li> Venue Latitude </li>\n    <li> Venue Longitude </li>\n    </ul>\n\nThe only piece of data that is missing is the Score or Rating of the Restaurant. To get this we need to make another FourSquare API query using the id of the Restaurant."
        },
        {
            "cell_type": "markdown",
            "metadata": {},
            "source": "### 4. Use open source Chicago Crime data to provide the user with additional crime data"
        },
        {
            "cell_type": "markdown",
            "metadata": {},
            "source": "This dataset can be download from the Chicago Data Portal and reflects reported incidents of crime (with the exception of murders where data exists for each victim) that occurred in the City of Chicago in the last year, minus the most recent seven days. A full desription of the data is available on the site.\n\nData is extracted from the Chicago Police Department's CLEAR (Citizen Law Enforcement Analysis and Reporting) system. In order to protect the privacy of crime victims, addresses are shown at the block level only and specific locations are not identified.\n\nNot all of the attributes are required so on the following data was imported:\n<ol>\n <li>   Date of Occurance  </li>\n <li>    Block </li>\n <li>    Primary Description </li>\n   <li>  Ward </li>\n   <li>  Latitude </li>\n   <li>  Longitude </li>\n    <ol>\n\n"
        },
        {
            "cell_type": "markdown",
            "metadata": {},
            "source": ""
        }
    ],
    "metadata": {
        "kernelspec": {
            "display_name": "Python 3.6",
            "language": "python",
            "name": "python3"
        },
        "language_info": {
            "codemirror_mode": {
                "name": "ipython",
                "version": 3
            },
            "file_extension": ".py",
            "mimetype": "text/x-python",
            "name": "python",
            "nbconvert_exporter": "python",
            "pygments_lexer": "ipython3",
            "version": "3.6.9"
        }
    },
    "nbformat": 4,
    "nbformat_minor": 1
}